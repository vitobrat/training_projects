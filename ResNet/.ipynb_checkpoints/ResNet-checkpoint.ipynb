{
 "cells": [
  {
   "cell_type": "code",
   "execution_count": 1,
   "id": "067de2ec-0726-4d00-acea-bcb04d903bed",
   "metadata": {},
   "outputs": [],
   "source": [
    "import torch\n",
    "import torch.nn as nn\n",
    "import torch.nn.functional as F\n",
    "from torch.utils.data import random_split, DataLoader\n",
    "\n",
    "import torchvision as tv\n",
    "import numpy as np\n",
    "import os\n",
    "import cv2\n",
    "import matplotlib.pyplot as plt\n",
    "from tqdm import tqdm\n",
    "import torch\n",
    "import torch.nn as nn\n",
    "import torch.nn.functional as F\n",
    "\n",
    "import torchvision as tv\n",
    "import numpy as np\n",
    "import os\n",
    "import cv2\n",
    "import matplotlib.pyplot as plt\n",
    "from tqdm import tqdm\n",
    "from torch.cuda.amp import autocast, GradScaler"
   ]
  },
  {
   "cell_type": "code",
   "execution_count": 2,
   "id": "20b0ce40-5702-4ce7-ac7a-8a89cf0b015a",
   "metadata": {
    "tags": []
   },
   "outputs": [],
   "source": [
    "class VGG16(nn.Module):\n",
    "    def __init__(self, output):\n",
    "        super().__init__()\n",
    "        self.activation = nn.GELU()\n",
    "        self.maxpool = nn.MaxPool2d(2, 2)\n",
    "        \n",
    "        self.conv1_1 = nn.Conv2d(3, 64, kernel_size=3, padding=1)\n",
    "        self.conv1_2 = nn.Conv2d(64, 64, kernel_size=3, padding=1)\n",
    "        \n",
    "        self.conv2_1 = nn.Conv2d(64, 128, kernel_size=3, padding=1)\n",
    "        self.conv2_2 = nn.Conv2d(128, 128, kernel_size=3, padding=1)\n",
    "        \n",
    "        self.conv3_1 = nn.Conv2d(128, 128, kernel_size=3, padding=1)\n",
    "        self.conv3_2 = nn.Conv2d(128, 128, kernel_size=3, padding=1)\n",
    "        self.conv3_3 = nn.Conv2d(128, 64, kernel_size=3, padding=1)\n",
    "        \n",
    "#         self.conv4_1 = nn.Conv2d(256, 512, kernel_size=3, padding=1)\n",
    "#         self.conv4_2 = nn.Conv2d(512, 512, kernel_size=3, padding=1)\n",
    "#         self.conv4_3 = nn.Conv2d(512, 512, kernel_size=3, padding=1)\n",
    "        \n",
    "#         self.conv5_1 = nn.Conv2d(512, 512, kernel_size=3, padding=1)\n",
    "#         self.conv5_2 = nn.Conv2d(512, 512, kernel_size=3, padding=1)\n",
    "#         self.conv5_3 = nn.Conv2d(512, 512, kernel_size=3, padding=1)\n",
    "        \n",
    "        self.flat = nn.Flatten()\n",
    "        self.adaptivepool = nn.AdaptiveAvgPool2d((1,1))\n",
    "        self.fc1 = nn.Linear(64, 32)\n",
    "        # self.fc2 = nn.Linear(64, 32)\n",
    "        self.fc3 = nn.Linear(32, output)\n",
    "        \n",
    "    \n",
    "    def forward(self, x):\n",
    "        out = self.conv1_1(x)\n",
    "        out = self.activation(out)\n",
    "        out = self.conv1_2(out)\n",
    "        out = self.activation(out)\n",
    "        out = self.maxpool(out)\n",
    "        \n",
    "        out = self.conv2_1(out)\n",
    "        out = self.activation(out)\n",
    "        out = self.conv2_2(out)\n",
    "        out = self.activation(out)\n",
    "        out = self.maxpool(out)\n",
    "        \n",
    "        out = self.conv3_1(out)\n",
    "        out = self.activation(out)\n",
    "        out = self.conv3_2(out)\n",
    "        out = self.activation(out)\n",
    "        out = self.conv3_3(out)\n",
    "        out = self.activation(out)\n",
    "        \n",
    "#         out = self.conv4_1(out)\n",
    "#         out = self.activation(out)\n",
    "#         out = self.conv4_2(out)\n",
    "#         out = self.activation(out)\n",
    "#         out = self.conv4_3(out)\n",
    "#         out = self.activation(out)\n",
    "#         out = self.maxpool(out)\n",
    "        \n",
    "#         out = self.conv5_1(out)\n",
    "#         out = self.activation(out)\n",
    "#         out = self.conv5_2(out)\n",
    "#         out = self.activation(out)\n",
    "#         out = self.conv5_3(out)\n",
    "#         out = self.activation(out)\n",
    "#         out = self.maxpool(out)\n",
    "        \n",
    "        out = self.adaptivepool(out)\n",
    "        out = self.flat(out)\n",
    "        out = self.fc1(out)\n",
    "        out = self.activation(out)\n",
    "        # out = self.fc2(out)\n",
    "        # out = self.activation(out)\n",
    "        out = self.fc3(out)\n",
    "        \n",
    "        return(out)\n",
    "        \n",
    "        \n",
    "        "
   ]
  },
  {
   "cell_type": "code",
   "execution_count": 3,
   "id": "4759d28f-d218-4939-a58b-6c7f282e4f45",
   "metadata": {
    "tags": []
   },
   "outputs": [],
   "source": [
    "class Dataset2class(torch.utils.data.Dataset):\n",
    "    def __init__(self, path_dir1:str):\n",
    "        super().__init__()\n",
    "\n",
    "        self.path_dir1 = path_dir1\n",
    "        self.dir1_list = sorted(os.listdir(path_dir1))\n",
    "\n",
    "    def __len__(self):\n",
    "        return len(self.dir1_list)\n",
    "\n",
    "    def __getitem__(self, key):\n",
    "        if self.dir1_list[key].split(\".\")[0] == \"cat\":\n",
    "            id_class = 1\n",
    "            img_path = os.path.join(self.path_dir1, self.dir1_list[key])\n",
    "        else: \n",
    "            id_class = 0\n",
    "            img_path = os.path.join(self.path_dir1, self.dir1_list[key])\n",
    "        img = cv2.imread(img_path, cv2.IMREAD_COLOR)\n",
    "        img = cv2.cvtColor(img, cv2.COLOR_BGR2RGB)\n",
    "        img = img.astype(np.float32)\n",
    "        img = img / 255.0\n",
    "        img = cv2.resize(img, (224, 224), interpolation=cv2.INTER_AREA)\n",
    "        img = img.transpose((2, 0, 1))\n",
    "        t_img = torch.from_numpy(img)\n",
    "        t_class_id = torch.tensor([id_class])\n",
    "\n",
    "        return {\"img\" : t_img,\n",
    "                \"labels\" : t_class_id}"
   ]
  },
  {
   "cell_type": "code",
   "execution_count": 4,
   "id": "005bea36-271b-4ca2-8e07-16d4d5ec2450",
   "metadata": {
    "tags": []
   },
   "outputs": [],
   "source": [
    "def accuracy(labels, predictions, threshold=0.5):\n",
    "    \"\"\"\n",
    "    Computes accuracy between binary labels and predictions.\n",
    "\n",
    "    Parameters:\n",
    "    - labels (torch.Tensor): Binary ground truth labels (0 or 1).\n",
    "    - predictions (torch.Tensor): Predicted values (e.g., output of a sigmoid activation).\n",
    "    - threshold (float): Threshold for converting predictions to binary values.\n",
    "\n",
    "    Returns:\n",
    "    - float: Accuracy value.\n",
    "    \"\"\"\n",
    "    binary_predictions = (torch.sigmoid(predictions) > threshold).to(torch.float32)\n",
    "    correct_predictions = (binary_predictions == labels).to(torch.float32)\n",
    "    accuracy_value = correct_predictions.mean().item()\n",
    "    return accuracy_value"
   ]
  },
  {
   "cell_type": "code",
   "execution_count": 5,
   "id": "88c8e2e0-b530-4dd4-acd5-c7208ee1133d",
   "metadata": {
    "tags": []
   },
   "outputs": [],
   "source": [
    "train_path = \"C://img//dogs_vs_cats//train\"\n",
    "test_path = \"C://img//Dogs and Cats//dataset//test_set\"\n",
    "train_ds_cats_dogs = Dataset2class(train_path)\n",
    "test_ds_cats_dogs = Dataset2class(test_path)"
   ]
  },
  {
   "cell_type": "code",
   "execution_count": 6,
   "id": "1872d8f1-6b3c-43ad-b859-d3cc767814c3",
   "metadata": {
    "tags": []
   },
   "outputs": [],
   "source": [
    "batch_size = 32\n",
    "train_size = int(0.85 * len(train_ds_cats_dogs))\n",
    "val_size = len(train_ds_cats_dogs) - train_size\n",
    "\n",
    "train_data, val_data = random_split(train_ds_cats_dogs, [train_size, val_size])\n",
    "\n",
    "train_loader = DataLoader(train_data, batch_size=batch_size, shuffle=True, num_workers=0, drop_last=True)\n",
    "val_loader = DataLoader(val_data, batch_size=batch_size, shuffle=False,  num_workers=0, drop_last=True)\n",
    "test_loader = torch.utils.data.DataLoader(test_ds_cats_dogs, batch_size=batch_size, num_workers=0, shuffle=True, drop_last=False)"
   ]
  },
  {
   "cell_type": "code",
   "execution_count": 7,
   "id": "055b0701-c426-4f17-94f1-079c1c281888",
   "metadata": {
    "tags": []
   },
   "outputs": [],
   "source": [
    "def count_parameters(model):\n",
    "    return sum(p.numel() for p in model.parameters() if p.requires_grad)"
   ]
  },
  {
   "cell_type": "code",
   "execution_count": 8,
   "id": "716cc113-7cd0-4c4c-ac62-6d3518d1bf81",
   "metadata": {
    "tags": []
   },
   "outputs": [
    {
     "data": {
      "text/plain": [
       "True"
      ]
     },
     "execution_count": 8,
     "metadata": {},
     "output_type": "execute_result"
    }
   ],
   "source": [
    "torch.cuda.is_available()"
   ]
  },
  {
   "cell_type": "code",
   "execution_count": 9,
   "id": "444c0cdb-b4aa-472e-89d5-212acd4230b3",
   "metadata": {
    "tags": []
   },
   "outputs": [
    {
     "name": "stdout",
     "output_type": "stream",
     "text": [
      "631233\n",
      "cuda\n"
     ]
    }
   ],
   "source": [
    "device = \"cuda\" if torch.cuda.is_available() else \"cpu\"\n",
    "model = VGG16(1)\n",
    "model = model.to(device)\n",
    "print(count_parameters(model))\n",
    "print(device)"
   ]
  },
  {
   "cell_type": "code",
   "execution_count": 10,
   "id": "ce7b1506-d4be-4502-a4a2-eb829098d8c8",
   "metadata": {
    "tags": []
   },
   "outputs": [],
   "source": [
    "loss_fn = nn.BCEWithLogitsLoss().to(device)\n",
    "optimizer = torch.optim.Adam(model.parameters(), lr=0.001, betas=(0.9, 0.999))"
   ]
  },
  {
   "cell_type": "code",
   "execution_count": 11,
   "id": "a5a19e43-70f9-48e1-a2e3-2e3ffbbaa58f",
   "metadata": {
    "tags": []
   },
   "outputs": [],
   "source": [
    "use_amp = True\n",
    "scaler = torch.cuda.amp.GradScaler()\n",
    "torch.backends.cudnn.benchmark = True #проверяет сначала какой алгоритм вычисления тензоров\n",
    "#эффективный и потом по нему производит все вычисления. Необходим фиксированный размер фотографии\n",
    "torch.backends.cudnn.deterministic = False #работает как seed=42"
   ]
  },
  {
   "cell_type": "code",
   "execution_count": 12,
   "id": "3da4d6de-f96c-411b-932e-5891e2c05c15",
   "metadata": {
    "tags": []
   },
   "outputs": [
    {
     "name": "stderr",
     "output_type": "stream",
     "text": [
      "loss_train: 0.657, accuracy_train: 0.656: 100%|██████████| 664/664 [02:42<00:00,  4.08it/s]\n",
      "100%|██████████| 117/117 [00:24<00:00,  4.78it/s]\n"
     ]
    },
    {
     "name": "stdout",
     "output_type": "stream",
     "text": [
      "Epoch 1 - Train Loss: 0.687, Train Accuracy: 0.543\n",
      "Epoch 1 - Validation Loss: 0.686, Validation Accuracy: 0.551\n"
     ]
    },
    {
     "name": "stderr",
     "output_type": "stream",
     "text": [
      "loss_train: 0.674, accuracy_train: 0.375: 100%|██████████| 664/664 [02:47<00:00,  3.97it/s]\n",
      "100%|██████████| 117/117 [00:24<00:00,  4.75it/s]\n"
     ]
    },
    {
     "name": "stdout",
     "output_type": "stream",
     "text": [
      "Epoch 2 - Train Loss: 0.680, Train Accuracy: 0.568\n",
      "Epoch 2 - Validation Loss: 0.690, Validation Accuracy: 0.565\n"
     ]
    },
    {
     "name": "stderr",
     "output_type": "stream",
     "text": [
      "loss_train: 0.635, accuracy_train: 0.688: 100%|██████████| 664/664 [02:51<00:00,  3.88it/s]\n",
      "100%|██████████| 117/117 [00:25<00:00,  4.57it/s]\n"
     ]
    },
    {
     "name": "stdout",
     "output_type": "stream",
     "text": [
      "Epoch 3 - Train Loss: 0.704, Train Accuracy: 0.556\n",
      "Epoch 3 - Validation Loss: 0.688, Validation Accuracy: 0.558\n"
     ]
    },
    {
     "name": "stderr",
     "output_type": "stream",
     "text": [
      "loss_train: 0.685, accuracy_train: 0.531: 100%|██████████| 664/664 [02:51<00:00,  3.87it/s]\n",
      "100%|██████████| 117/117 [00:25<00:00,  4.65it/s]\n"
     ]
    },
    {
     "name": "stdout",
     "output_type": "stream",
     "text": [
      "Epoch 4 - Train Loss: 0.680, Train Accuracy: 0.569\n",
      "Epoch 4 - Validation Loss: 0.685, Validation Accuracy: 0.569\n"
     ]
    },
    {
     "name": "stderr",
     "output_type": "stream",
     "text": [
      "loss_train: 0.684, accuracy_train: 0.594: 100%|██████████| 664/664 [02:51<00:00,  3.87it/s]\n",
      "100%|██████████| 117/117 [00:25<00:00,  4.65it/s]\n"
     ]
    },
    {
     "name": "stdout",
     "output_type": "stream",
     "text": [
      "Epoch 5 - Train Loss: 0.683, Train Accuracy: 0.555\n",
      "Epoch 5 - Validation Loss: 0.691, Validation Accuracy: 0.526\n"
     ]
    },
    {
     "name": "stderr",
     "output_type": "stream",
     "text": [
      "loss_train: 0.729, accuracy_train: 0.500: 100%|██████████| 664/664 [02:51<00:00,  3.88it/s]\n",
      "100%|██████████| 117/117 [00:25<00:00,  4.63it/s]\n"
     ]
    },
    {
     "name": "stdout",
     "output_type": "stream",
     "text": [
      "Epoch 6 - Train Loss: 0.682, Train Accuracy: 0.563\n",
      "Epoch 6 - Validation Loss: 0.684, Validation Accuracy: 0.570\n"
     ]
    },
    {
     "name": "stderr",
     "output_type": "stream",
     "text": [
      "loss_train: 0.685, accuracy_train: 0.531: 100%|██████████| 664/664 [02:54<00:00,  3.81it/s]\n",
      "100%|██████████| 117/117 [00:25<00:00,  4.59it/s]\n"
     ]
    },
    {
     "name": "stdout",
     "output_type": "stream",
     "text": [
      "Epoch 7 - Train Loss: 0.677, Train Accuracy: 0.574\n",
      "Epoch 7 - Validation Loss: 0.683, Validation Accuracy: 0.564\n"
     ]
    },
    {
     "name": "stderr",
     "output_type": "stream",
     "text": [
      "loss_train: 0.716, accuracy_train: 0.531: 100%|██████████| 664/664 [02:59<00:00,  3.70it/s]\n",
      "100%|██████████| 117/117 [00:26<00:00,  4.33it/s]\n"
     ]
    },
    {
     "name": "stdout",
     "output_type": "stream",
     "text": [
      "Epoch 8 - Train Loss: 0.675, Train Accuracy: 0.580\n",
      "Epoch 8 - Validation Loss: 0.685, Validation Accuracy: 0.577\n"
     ]
    },
    {
     "name": "stderr",
     "output_type": "stream",
     "text": [
      "loss_train: 0.737, accuracy_train: 0.469: 100%|██████████| 664/664 [03:00<00:00,  3.67it/s]\n",
      "100%|██████████| 117/117 [00:28<00:00,  4.10it/s]\n"
     ]
    },
    {
     "name": "stdout",
     "output_type": "stream",
     "text": [
      "Epoch 9 - Train Loss: nan, Train Accuracy: 0.591\n",
      "Epoch 9 - Validation Loss: 0.668, Validation Accuracy: 0.601\n"
     ]
    },
    {
     "name": "stderr",
     "output_type": "stream",
     "text": [
      "loss_train: 0.614, accuracy_train: 0.750: 100%|██████████| 664/664 [03:09<00:00,  3.51it/s]\n",
      "100%|██████████| 117/117 [00:28<00:00,  4.12it/s]\n"
     ]
    },
    {
     "name": "stdout",
     "output_type": "stream",
     "text": [
      "Epoch 10 - Train Loss: 0.686, Train Accuracy: 0.588\n",
      "Epoch 10 - Validation Loss: 0.680, Validation Accuracy: 0.580\n"
     ]
    },
    {
     "name": "stderr",
     "output_type": "stream",
     "text": [
      "loss_train: 0.628, accuracy_train: 0.688: 100%|██████████| 664/664 [03:07<00:00,  3.55it/s]\n",
      "100%|██████████| 117/117 [00:29<00:00,  4.01it/s]\n"
     ]
    },
    {
     "name": "stdout",
     "output_type": "stream",
     "text": [
      "Epoch 11 - Train Loss: nan, Train Accuracy: 0.587\n",
      "Epoch 11 - Validation Loss: nan, Validation Accuracy: 0.583\n"
     ]
    },
    {
     "name": "stderr",
     "output_type": "stream",
     "text": [
      "loss_train: 0.743, accuracy_train: 0.438: 100%|██████████| 664/664 [03:09<00:00,  3.51it/s]\n",
      "100%|██████████| 117/117 [00:28<00:00,  4.04it/s]\n"
     ]
    },
    {
     "name": "stdout",
     "output_type": "stream",
     "text": [
      "Epoch 12 - Train Loss: nan, Train Accuracy: 0.587\n",
      "Epoch 12 - Validation Loss: nan, Validation Accuracy: 0.583\n"
     ]
    },
    {
     "name": "stderr",
     "output_type": "stream",
     "text": [
      "loss_train: nan, accuracy_train: 0.469: 100%|██████████| 664/664 [03:06<00:00,  3.56it/s]  \n",
      "100%|██████████| 117/117 [00:28<00:00,  4.04it/s]\n"
     ]
    },
    {
     "name": "stdout",
     "output_type": "stream",
     "text": [
      "Epoch 13 - Train Loss: nan, Train Accuracy: 0.536\n",
      "Epoch 13 - Validation Loss: nan, Validation Accuracy: 0.520\n"
     ]
    },
    {
     "name": "stderr",
     "output_type": "stream",
     "text": [
      "loss_train: nan, accuracy_train: 0.625:  10%|▉         | 66/664 [00:18<02:46,  3.60it/s]\n"
     ]
    },
    {
     "ename": "KeyboardInterrupt",
     "evalue": "",
     "output_type": "error",
     "traceback": [
      "\u001b[1;31m---------------------------------------------------------------------------\u001b[0m",
      "\u001b[1;31mKeyboardInterrupt\u001b[0m                         Traceback (most recent call last)",
      "Cell \u001b[1;32mIn[12], line 9\u001b[0m\n\u001b[0;32m      6\u001b[0m accuracy_train \u001b[38;5;241m=\u001b[39m \u001b[38;5;241m0\u001b[39m\n\u001b[0;32m      8\u001b[0m model\u001b[38;5;241m.\u001b[39mtrain()\n\u001b[1;32m----> 9\u001b[0m \u001b[38;5;28;01mfor\u001b[39;00m sample \u001b[38;5;129;01min\u001b[39;00m (pbar \u001b[38;5;241m:=\u001b[39m tqdm(train_loader)):\n\u001b[0;32m     10\u001b[0m     train_img \u001b[38;5;241m=\u001b[39m sample[\u001b[38;5;124m\"\u001b[39m\u001b[38;5;124mimg\u001b[39m\u001b[38;5;124m\"\u001b[39m]\u001b[38;5;241m.\u001b[39mto(device)\n\u001b[0;32m     11\u001b[0m     train_labels \u001b[38;5;241m=\u001b[39m sample[\u001b[38;5;124m\"\u001b[39m\u001b[38;5;124mlabels\u001b[39m\u001b[38;5;124m\"\u001b[39m]\u001b[38;5;241m.\u001b[39mfloat()\u001b[38;5;241m.\u001b[39mto(device) \n",
      "File \u001b[1;32m~\\anaconda3\\Lib\\site-packages\\tqdm\\std.py:1178\u001b[0m, in \u001b[0;36mtqdm.__iter__\u001b[1;34m(self)\u001b[0m\n\u001b[0;32m   1175\u001b[0m time \u001b[38;5;241m=\u001b[39m \u001b[38;5;28mself\u001b[39m\u001b[38;5;241m.\u001b[39m_time\n\u001b[0;32m   1177\u001b[0m \u001b[38;5;28;01mtry\u001b[39;00m:\n\u001b[1;32m-> 1178\u001b[0m     \u001b[38;5;28;01mfor\u001b[39;00m obj \u001b[38;5;129;01min\u001b[39;00m iterable:\n\u001b[0;32m   1179\u001b[0m         \u001b[38;5;28;01myield\u001b[39;00m obj\n\u001b[0;32m   1180\u001b[0m         \u001b[38;5;66;03m# Update and possibly print the progressbar.\u001b[39;00m\n\u001b[0;32m   1181\u001b[0m         \u001b[38;5;66;03m# Note: does not call self.update(1) for speed optimisation.\u001b[39;00m\n",
      "File \u001b[1;32m~\\anaconda3\\Lib\\site-packages\\torch\\utils\\data\\dataloader.py:631\u001b[0m, in \u001b[0;36m_BaseDataLoaderIter.__next__\u001b[1;34m(self)\u001b[0m\n\u001b[0;32m    628\u001b[0m \u001b[38;5;28;01mif\u001b[39;00m \u001b[38;5;28mself\u001b[39m\u001b[38;5;241m.\u001b[39m_sampler_iter \u001b[38;5;129;01mis\u001b[39;00m \u001b[38;5;28;01mNone\u001b[39;00m:\n\u001b[0;32m    629\u001b[0m     \u001b[38;5;66;03m# TODO(https://github.com/pytorch/pytorch/issues/76750)\u001b[39;00m\n\u001b[0;32m    630\u001b[0m     \u001b[38;5;28mself\u001b[39m\u001b[38;5;241m.\u001b[39m_reset()  \u001b[38;5;66;03m# type: ignore[call-arg]\u001b[39;00m\n\u001b[1;32m--> 631\u001b[0m data \u001b[38;5;241m=\u001b[39m \u001b[38;5;28mself\u001b[39m\u001b[38;5;241m.\u001b[39m_next_data()\n\u001b[0;32m    632\u001b[0m \u001b[38;5;28mself\u001b[39m\u001b[38;5;241m.\u001b[39m_num_yielded \u001b[38;5;241m+\u001b[39m\u001b[38;5;241m=\u001b[39m \u001b[38;5;241m1\u001b[39m\n\u001b[0;32m    633\u001b[0m \u001b[38;5;28;01mif\u001b[39;00m \u001b[38;5;28mself\u001b[39m\u001b[38;5;241m.\u001b[39m_dataset_kind \u001b[38;5;241m==\u001b[39m _DatasetKind\u001b[38;5;241m.\u001b[39mIterable \u001b[38;5;129;01mand\u001b[39;00m \\\n\u001b[0;32m    634\u001b[0m         \u001b[38;5;28mself\u001b[39m\u001b[38;5;241m.\u001b[39m_IterableDataset_len_called \u001b[38;5;129;01mis\u001b[39;00m \u001b[38;5;129;01mnot\u001b[39;00m \u001b[38;5;28;01mNone\u001b[39;00m \u001b[38;5;129;01mand\u001b[39;00m \\\n\u001b[0;32m    635\u001b[0m         \u001b[38;5;28mself\u001b[39m\u001b[38;5;241m.\u001b[39m_num_yielded \u001b[38;5;241m>\u001b[39m \u001b[38;5;28mself\u001b[39m\u001b[38;5;241m.\u001b[39m_IterableDataset_len_called:\n",
      "File \u001b[1;32m~\\anaconda3\\Lib\\site-packages\\torch\\utils\\data\\dataloader.py:675\u001b[0m, in \u001b[0;36m_SingleProcessDataLoaderIter._next_data\u001b[1;34m(self)\u001b[0m\n\u001b[0;32m    673\u001b[0m \u001b[38;5;28;01mdef\u001b[39;00m \u001b[38;5;21m_next_data\u001b[39m(\u001b[38;5;28mself\u001b[39m):\n\u001b[0;32m    674\u001b[0m     index \u001b[38;5;241m=\u001b[39m \u001b[38;5;28mself\u001b[39m\u001b[38;5;241m.\u001b[39m_next_index()  \u001b[38;5;66;03m# may raise StopIteration\u001b[39;00m\n\u001b[1;32m--> 675\u001b[0m     data \u001b[38;5;241m=\u001b[39m \u001b[38;5;28mself\u001b[39m\u001b[38;5;241m.\u001b[39m_dataset_fetcher\u001b[38;5;241m.\u001b[39mfetch(index)  \u001b[38;5;66;03m# may raise StopIteration\u001b[39;00m\n\u001b[0;32m    676\u001b[0m     \u001b[38;5;28;01mif\u001b[39;00m \u001b[38;5;28mself\u001b[39m\u001b[38;5;241m.\u001b[39m_pin_memory:\n\u001b[0;32m    677\u001b[0m         data \u001b[38;5;241m=\u001b[39m _utils\u001b[38;5;241m.\u001b[39mpin_memory\u001b[38;5;241m.\u001b[39mpin_memory(data, \u001b[38;5;28mself\u001b[39m\u001b[38;5;241m.\u001b[39m_pin_memory_device)\n",
      "File \u001b[1;32m~\\anaconda3\\Lib\\site-packages\\torch\\utils\\data\\_utils\\fetch.py:49\u001b[0m, in \u001b[0;36m_MapDatasetFetcher.fetch\u001b[1;34m(self, possibly_batched_index)\u001b[0m\n\u001b[0;32m     47\u001b[0m \u001b[38;5;28;01mif\u001b[39;00m \u001b[38;5;28mself\u001b[39m\u001b[38;5;241m.\u001b[39mauto_collation:\n\u001b[0;32m     48\u001b[0m     \u001b[38;5;28;01mif\u001b[39;00m \u001b[38;5;28mhasattr\u001b[39m(\u001b[38;5;28mself\u001b[39m\u001b[38;5;241m.\u001b[39mdataset, \u001b[38;5;124m\"\u001b[39m\u001b[38;5;124m__getitems__\u001b[39m\u001b[38;5;124m\"\u001b[39m) \u001b[38;5;129;01mand\u001b[39;00m \u001b[38;5;28mself\u001b[39m\u001b[38;5;241m.\u001b[39mdataset\u001b[38;5;241m.\u001b[39m__getitems__:\n\u001b[1;32m---> 49\u001b[0m         data \u001b[38;5;241m=\u001b[39m \u001b[38;5;28mself\u001b[39m\u001b[38;5;241m.\u001b[39mdataset\u001b[38;5;241m.\u001b[39m__getitems__(possibly_batched_index)\n\u001b[0;32m     50\u001b[0m     \u001b[38;5;28;01melse\u001b[39;00m:\n\u001b[0;32m     51\u001b[0m         data \u001b[38;5;241m=\u001b[39m [\u001b[38;5;28mself\u001b[39m\u001b[38;5;241m.\u001b[39mdataset[idx] \u001b[38;5;28;01mfor\u001b[39;00m idx \u001b[38;5;129;01min\u001b[39;00m possibly_batched_index]\n",
      "File \u001b[1;32m~\\anaconda3\\Lib\\site-packages\\torch\\utils\\data\\dataset.py:399\u001b[0m, in \u001b[0;36mSubset.__getitems__\u001b[1;34m(self, indices)\u001b[0m\n\u001b[0;32m    397\u001b[0m     \u001b[38;5;28;01mreturn\u001b[39;00m \u001b[38;5;28mself\u001b[39m\u001b[38;5;241m.\u001b[39mdataset\u001b[38;5;241m.\u001b[39m__getitems__([\u001b[38;5;28mself\u001b[39m\u001b[38;5;241m.\u001b[39mindices[idx] \u001b[38;5;28;01mfor\u001b[39;00m idx \u001b[38;5;129;01min\u001b[39;00m indices])  \u001b[38;5;66;03m# type: ignore[attr-defined]\u001b[39;00m\n\u001b[0;32m    398\u001b[0m \u001b[38;5;28;01melse\u001b[39;00m:\n\u001b[1;32m--> 399\u001b[0m     \u001b[38;5;28;01mreturn\u001b[39;00m [\u001b[38;5;28mself\u001b[39m\u001b[38;5;241m.\u001b[39mdataset[\u001b[38;5;28mself\u001b[39m\u001b[38;5;241m.\u001b[39mindices[idx]] \u001b[38;5;28;01mfor\u001b[39;00m idx \u001b[38;5;129;01min\u001b[39;00m indices]\n",
      "File \u001b[1;32m~\\anaconda3\\Lib\\site-packages\\torch\\utils\\data\\dataset.py:399\u001b[0m, in \u001b[0;36m<listcomp>\u001b[1;34m(.0)\u001b[0m\n\u001b[0;32m    397\u001b[0m     \u001b[38;5;28;01mreturn\u001b[39;00m \u001b[38;5;28mself\u001b[39m\u001b[38;5;241m.\u001b[39mdataset\u001b[38;5;241m.\u001b[39m__getitems__([\u001b[38;5;28mself\u001b[39m\u001b[38;5;241m.\u001b[39mindices[idx] \u001b[38;5;28;01mfor\u001b[39;00m idx \u001b[38;5;129;01min\u001b[39;00m indices])  \u001b[38;5;66;03m# type: ignore[attr-defined]\u001b[39;00m\n\u001b[0;32m    398\u001b[0m \u001b[38;5;28;01melse\u001b[39;00m:\n\u001b[1;32m--> 399\u001b[0m     \u001b[38;5;28;01mreturn\u001b[39;00m [\u001b[38;5;28mself\u001b[39m\u001b[38;5;241m.\u001b[39mdataset[\u001b[38;5;28mself\u001b[39m\u001b[38;5;241m.\u001b[39mindices[idx]] \u001b[38;5;28;01mfor\u001b[39;00m idx \u001b[38;5;129;01min\u001b[39;00m indices]\n",
      "Cell \u001b[1;32mIn[3], line 18\u001b[0m, in \u001b[0;36mDataset2class.__getitem__\u001b[1;34m(self, key)\u001b[0m\n\u001b[0;32m     16\u001b[0m     id_class \u001b[38;5;241m=\u001b[39m \u001b[38;5;241m0\u001b[39m\n\u001b[0;32m     17\u001b[0m     img_path \u001b[38;5;241m=\u001b[39m os\u001b[38;5;241m.\u001b[39mpath\u001b[38;5;241m.\u001b[39mjoin(\u001b[38;5;28mself\u001b[39m\u001b[38;5;241m.\u001b[39mpath_dir1, \u001b[38;5;28mself\u001b[39m\u001b[38;5;241m.\u001b[39mdir1_list[key])\n\u001b[1;32m---> 18\u001b[0m img \u001b[38;5;241m=\u001b[39m cv2\u001b[38;5;241m.\u001b[39mimread(img_path, cv2\u001b[38;5;241m.\u001b[39mIMREAD_COLOR)\n\u001b[0;32m     19\u001b[0m img \u001b[38;5;241m=\u001b[39m cv2\u001b[38;5;241m.\u001b[39mcvtColor(img, cv2\u001b[38;5;241m.\u001b[39mCOLOR_BGR2RGB)\n\u001b[0;32m     20\u001b[0m img \u001b[38;5;241m=\u001b[39m img\u001b[38;5;241m.\u001b[39mastype(np\u001b[38;5;241m.\u001b[39mfloat32)\n",
      "\u001b[1;31mKeyboardInterrupt\u001b[0m: "
     ]
    }
   ],
   "source": [
    "epochs = 15\n",
    "for epoch in range(epochs):\n",
    "    loss_val = 0\n",
    "    loss_train = 0\n",
    "    accuracy_val = 0\n",
    "    accuracy_train = 0\n",
    "    \n",
    "    model.train()\n",
    "    for sample in (pbar := tqdm(train_loader)):\n",
    "        train_img = sample[\"img\"].to(device)\n",
    "        train_labels = sample[\"labels\"].float().to(device) \n",
    "\n",
    "        optimizer.zero_grad()\n",
    "        \n",
    "        with autocast(use_amp):\n",
    "            pred = model(train_img)\n",
    "            loss = loss_fn(pred, train_labels)\n",
    "        \n",
    "        if device == \"cuda\" and use_amp:\n",
    "            scaler.scale(loss).backward()\n",
    "            scaler.step(optimizer)\n",
    "            scaler.update()\n",
    "        else:\n",
    "            loss.backward()\n",
    "            optimizer.step()\n",
    "        \n",
    "        with torch.no_grad():\n",
    "            loss_item_train = loss.item()\n",
    "            loss_train += loss_item_train\n",
    "\n",
    "            accuracy_current_train = accuracy(train_labels, pred)\n",
    "            accuracy_train += accuracy_current_train\n",
    "        pbar.set_description(f\"loss_train: {loss_item_train:.3f}, accuracy_train: {accuracy_current_train:.3f}\")\n",
    "        \n",
    "    model.eval()\n",
    "    with torch.no_grad():\n",
    "        for sample_val in tqdm(val_loader):\n",
    "            img_val = sample_val[\"img\"].to(device)\n",
    "            label_val = sample_val[\"labels\"].float().to(device) \n",
    "            \n",
    "            with autocast(use_amp):\n",
    "                pred_val = model(img_val)\n",
    "                loss_fn_val = loss_fn(pred_val, label_val)\n",
    "\n",
    "                loss_item_val = loss_fn_val.item()\n",
    "                loss_val += loss_item_val\n",
    "\n",
    "                accuracy_current_val = accuracy(label_val, pred_val)\n",
    "                accuracy_val += accuracy_current_val\n",
    "\n",
    "    print(f\"Epoch {epoch + 1} - Train Loss: {loss_train / len(train_loader):.3f}, Train Accuracy: {accuracy_train / len(train_loader):.3f}\")\n",
    "    print(f\"Epoch {epoch + 1} - Validation Loss: {loss_val / len(val_loader):.3f}, Validation Accuracy: {accuracy_val / len(val_loader):.3f}\")"
   ]
  },
  {
   "cell_type": "code",
   "execution_count": null,
   "id": "1ebabf16-a2ab-46a4-adb1-06e2eb250ead",
   "metadata": {
    "tags": []
   },
   "outputs": [],
   "source": [
    "torch.save({'model_state_dict': model.state_dict(),\n",
    "            'optimizer_state_dict': optimizer.state_dict(),\n",
    "            'loss': loss_fn}, \"current_model\")"
   ]
  },
  {
   "cell_type": "code",
   "execution_count": 2,
   "id": "011281b5-1941-48e7-9329-e02461920e7c",
   "metadata": {
    "tags": []
   },
   "outputs": [
    {
     "ename": "NameError",
     "evalue": "name 'VGG16' is not defined",
     "output_type": "error",
     "traceback": [
      "\u001b[1;31m---------------------------------------------------------------------------\u001b[0m",
      "\u001b[1;31mNameError\u001b[0m                                 Traceback (most recent call last)",
      "Cell \u001b[1;32mIn[2], line 1\u001b[0m\n\u001b[1;32m----> 1\u001b[0m current_model \u001b[38;5;241m=\u001b[39m VGG16(\u001b[38;5;241m1\u001b[39m)\n\u001b[0;32m      2\u001b[0m current_model \u001b[38;5;241m=\u001b[39m current_model\u001b[38;5;241m.\u001b[39mto(devise)\n\u001b[0;32m      3\u001b[0m optimizer \u001b[38;5;241m=\u001b[39m torch\u001b[38;5;241m.\u001b[39moptim\u001b[38;5;241m.\u001b[39mAdam(current_model\u001b[38;5;241m.\u001b[39mparameters())\n",
      "\u001b[1;31mNameError\u001b[0m: name 'VGG16' is not defined"
     ]
    }
   ],
   "source": [
    "current_model = VGG16(1)\n",
    "current_model = current_model.to(devise)\n",
    "optimizer = torch.optim.Adam(current_model.parameters())\n",
    "\n",
    "checkpoint = torch.load(\"current_model\")\n",
    "current_model.load_state_dict(checkpoint['model_state_dict'])\n",
    "optimizer.load_state_dict(checkpoint['optimizer_state_dict'])\n",
    "loss = checkpoint['loss']"
   ]
  },
  {
   "cell_type": "code",
   "execution_count": 3,
   "id": "c72b690f-7802-4ff1-91d6-1f6eda0c1f3b",
   "metadata": {
    "tags": []
   },
   "outputs": [
    {
     "ename": "NameError",
     "evalue": "name 'test_loader' is not defined",
     "output_type": "error",
     "traceback": [
      "\u001b[1;31m---------------------------------------------------------------------------\u001b[0m",
      "\u001b[1;31mNameError\u001b[0m                                 Traceback (most recent call last)",
      "Cell \u001b[1;32mIn[3], line 3\u001b[0m\n\u001b[0;32m      1\u001b[0m loss_val \u001b[38;5;241m=\u001b[39m \u001b[38;5;241m0\u001b[39m\n\u001b[0;32m      2\u001b[0m accuracy_val \u001b[38;5;241m=\u001b[39m \u001b[38;5;241m0\u001b[39m\n\u001b[1;32m----> 3\u001b[0m \u001b[38;5;28;01mfor\u001b[39;00m sample \u001b[38;5;129;01min\u001b[39;00m test_loader:\n\u001b[0;32m      4\u001b[0m     img, labels \u001b[38;5;241m=\u001b[39m sample[\u001b[38;5;124m\"\u001b[39m\u001b[38;5;124mimg\u001b[39m\u001b[38;5;124m\"\u001b[39m]\u001b[38;5;241m.\u001b[39mto(devise), sample[\u001b[38;5;124m\"\u001b[39m\u001b[38;5;124mlabel\u001b[39m\u001b[38;5;124m\"\u001b[39m]\u001b[38;5;241m.\u001b[39mfloat()\u001b[38;5;241m.\u001b[39mto(devise)\n\u001b[0;32m      5\u001b[0m     \u001b[38;5;28;01mwith\u001b[39;00m torch\u001b[38;5;241m.\u001b[39mno_grad():\n",
      "\u001b[1;31mNameError\u001b[0m: name 'test_loader' is not defined"
     ]
    }
   ],
   "source": [
    "loss_val = 0\n",
    "accuracy_val = 0\n",
    "for sample in test_loader:\n",
    "    img, labels = sample[\"img\"].to(devise), sample[\"label\"].float().to(devise)\n",
    "    with torch.no_grad():\n",
    "        pred = current_model(img)\n",
    "        loss = loss_fn(pred, labels)\n",
    "\n",
    "    loss_item = loss.item()\n",
    "    loss_val += loss_item\n",
    "    accuracy_current = accuracy(labels, pred)\n",
    "    accuracy_val += accuracy_current\n",
    "print(f\"test_loss: {loss_val/len(test_loader)}\")\n",
    "print(f\"test_accuracy: {accuracy_val/len(test_loader)}\")"
   ]
  },
  {
   "cell_type": "code",
   "execution_count": null,
   "id": "b16d3ad0-76b8-41d4-923e-628190b06d93",
   "metadata": {},
   "outputs": [],
   "source": []
  }
 ],
 "metadata": {
  "kernelspec": {
   "display_name": "Python 3 (ipykernel)",
   "language": "python",
   "name": "python3"
  },
  "language_info": {
   "codemirror_mode": {
    "name": "ipython",
    "version": 3
   },
   "file_extension": ".py",
   "mimetype": "text/x-python",
   "name": "python",
   "nbconvert_exporter": "python",
   "pygments_lexer": "ipython3",
   "version": "3.11.7"
  }
 },
 "nbformat": 4,
 "nbformat_minor": 5
}
