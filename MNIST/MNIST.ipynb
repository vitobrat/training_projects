{
 "cells": [
  {
   "cell_type": "code",
   "execution_count": 1,
   "metadata": {
    "executionInfo": {
     "elapsed": 253,
     "status": "ok",
     "timestamp": 1709235948440,
     "user": {
      "displayName": "Виктор Братко",
      "userId": "01003162172643735255"
     },
     "user_tz": -180
    },
    "id": "Tu7aCOWkwFMP",
    "tags": []
   },
   "outputs": [],
   "source": [
    "import torch\n",
    "import torch.nn as nn\n",
    "import torchvision as tv\n",
    "import torch.nn.functional as F\n",
    "\n",
    "import numpy as np\n",
    "import matplotlib.pyplot as plt\n",
    "import cv2\n",
    "import os\n",
    "from tqdm import tqdm"
   ]
  },
  {
   "cell_type": "code",
   "execution_count": 2,
   "metadata": {
    "tags": []
   },
   "outputs": [
    {
     "data": {
      "text/plain": [
       "True"
      ]
     },
     "execution_count": 2,
     "metadata": {},
     "output_type": "execute_result"
    }
   ],
   "source": [
    "torch.cuda.is_available()"
   ]
  },
  {
   "cell_type": "code",
   "execution_count": 3,
   "metadata": {
    "executionInfo": {
     "elapsed": 266,
     "status": "ok",
     "timestamp": 1709228646373,
     "user": {
      "displayName": "Виктор Братко",
      "userId": "01003162172643735255"
     },
     "user_tz": -180
    },
    "id": "g7ezbzIY8tak",
    "tags": []
   },
   "outputs": [],
   "source": [
    "trans = tv.transforms.Compose([\n",
    "    tv.transforms.ToTensor()\n",
    "])"
   ]
  },
  {
   "cell_type": "code",
   "execution_count": 4,
   "metadata": {
    "executionInfo": {
     "elapsed": 3,
     "status": "ok",
     "timestamp": 1709228647638,
     "user": {
      "displayName": "Виктор Братко",
      "userId": "01003162172643735255"
     },
     "user_tz": -180
    },
    "id": "Ydzxh3Bg8I8I",
    "tags": []
   },
   "outputs": [],
   "source": [
    "ds_mnist = tv.datasets.MNIST(\"/.datasets\", download=True, transform=trans)"
   ]
  },
  {
   "cell_type": "code",
   "execution_count": 5,
   "metadata": {
    "executionInfo": {
     "elapsed": 258,
     "status": "ok",
     "timestamp": 1709228908528,
     "user": {
      "displayName": "Виктор Братко",
      "userId": "01003162172643735255"
     },
     "user_tz": -180
    },
    "id": "qD5lBVE08cK2",
    "tags": []
   },
   "outputs": [],
   "source": [
    "dataloader = torch.utils.data.DataLoader(\n",
    "    ds_mnist, 16, shuffle=True,\n",
    "    num_workers=0, drop_last=True\n",
    ")"
   ]
  },
  {
   "cell_type": "code",
   "execution_count": 6,
   "metadata": {
    "executionInfo": {
     "elapsed": 268,
     "status": "ok",
     "timestamp": 1709235333788,
     "user": {
      "displayName": "Виктор Братко",
      "userId": "01003162172643735255"
     },
     "user_tz": -180
    },
    "id": "AfbIPPQy_bZd",
    "tags": []
   },
   "outputs": [],
   "source": [
    "class NeuralNumbers(nn.Module):\n",
    "  def __init__(self):\n",
    "    super().__init__()\n",
    "    flat = nn.Flatten()\n",
    "    linear1 = nn.Linear(28*28, 128)\n",
    "    linear2 = nn.Linear(128, 10)\n",
    "    activation = nn.ReLU()\n",
    "    self.model = nn.Sequential(flat, linear1, activation, linear2)\n",
    "\n",
    "  def forward(self, x):\n",
    "    return self.model(x)"
   ]
  },
  {
   "cell_type": "code",
   "execution_count": 7,
   "metadata": {
    "executionInfo": {
     "elapsed": 321,
     "status": "ok",
     "timestamp": 1709235335206,
     "user": {
      "displayName": "Виктор Братко",
      "userId": "01003162172643735255"
     },
     "user_tz": -180
    },
    "id": "CO-0A40lUUBF",
    "tags": []
   },
   "outputs": [],
   "source": [
    "def count_parameters(model):\n",
    "  return sum(p.numel() for p in model.parameters() if p.requires_grad)"
   ]
  },
  {
   "cell_type": "code",
   "execution_count": 13,
   "metadata": {
    "executionInfo": {
     "elapsed": 240,
     "status": "ok",
     "timestamp": 1709235336205,
     "user": {
      "displayName": "Виктор Братко",
      "userId": "01003162172643735255"
     },
     "user_tz": -180
    },
    "id": "r4Z_lEqfFDpX",
    "tags": []
   },
   "outputs": [],
   "source": [
    "model = NeuralNumbers()\n",
    "devise = \"cuda\" if torch.cuda.is_available() else \"cpu\"\n",
    "model = model.to(devise)"
   ]
  },
  {
   "cell_type": "code",
   "execution_count": 14,
   "metadata": {
    "colab": {
     "base_uri": "https://localhost:8080/"
    },
    "executionInfo": {
     "elapsed": 274,
     "status": "ok",
     "timestamp": 1709234618283,
     "user": {
      "displayName": "Виктор Братко",
      "userId": "01003162172643735255"
     },
     "user_tz": -180
    },
    "id": "OSx8kareULAQ",
    "outputId": "cbd6c734-ed99-4f07-a721-c4857907ea76",
    "tags": []
   },
   "outputs": [
    {
     "data": {
      "text/plain": [
       "101770"
      ]
     },
     "execution_count": 14,
     "metadata": {},
     "output_type": "execute_result"
    }
   ],
   "source": [
    "count_parameters(model)"
   ]
  },
  {
   "cell_type": "code",
   "execution_count": 15,
   "metadata": {
    "executionInfo": {
     "elapsed": 2,
     "status": "ok",
     "timestamp": 1709235336609,
     "user": {
      "displayName": "Виктор Братко",
      "userId": "01003162172643735255"
     },
     "user_tz": -180
    },
    "id": "6SgN__CrEFq7",
    "tags": []
   },
   "outputs": [],
   "source": [
    "loss_fn = nn.CrossEntropyLoss()\n",
    "loss_fn = loss_fn.to(devise)"
   ]
  },
  {
   "cell_type": "code",
   "execution_count": 16,
   "metadata": {
    "executionInfo": {
     "elapsed": 2,
     "status": "ok",
     "timestamp": 1709235337557,
     "user": {
      "displayName": "Виктор Братко",
      "userId": "01003162172643735255"
     },
     "user_tz": -180
    },
    "id": "zFprQ-j3E7sT",
    "tags": []
   },
   "outputs": [],
   "source": [
    "optimizer = torch.optim.SGD(model.parameters(), lr=1e-3, momentum=0.9)"
   ]
  },
  {
   "cell_type": "code",
   "execution_count": 19,
   "metadata": {
    "executionInfo": {
     "elapsed": 233,
     "status": "ok",
     "timestamp": 1709235883899,
     "user": {
      "displayName": "Виктор Братко",
      "userId": "01003162172643735255"
     },
     "user_tz": -180
    },
    "id": "6mvyGvhXYE76",
    "tags": []
   },
   "outputs": [],
   "source": [
    "def accuracy(labels, prediction):\n",
    "  score = F.softmax(prediction.detach().cpu()).numpy().argmax(1) == labels.cpu().numpy().argmax(1)\n",
    "  return score.mean()"
   ]
  },
  {
   "cell_type": "code",
   "execution_count": 18,
   "metadata": {
    "colab": {
     "base_uri": "https://localhost:8080/"
    },
    "executionInfo": {
     "elapsed": 313967,
     "status": "ok",
     "timestamp": 1709236494998,
     "user": {
      "displayName": "Виктор Братко",
      "userId": "01003162172643735255"
     },
     "user_tz": -180
    },
    "id": "DUCQI5wFFRzg",
    "outputId": "712f0472-2f2e-4e43-9884-b4928dfa0183",
    "tags": []
   },
   "outputs": [
    {
     "name": "stderr",
     "output_type": "stream",
     "text": [
      "  0%|                                                                                         | 0/3750 [00:00<?, ?it/s]C:\\Users\\bratk\\AppData\\Local\\Temp\\ipykernel_30224\\3647358103.py:2: UserWarning: Implicit dimension choice for softmax has been deprecated. Change the call to include dim=X as an argument.\n",
      "  score = (F.softmax(prediction.detach().cpu()).numpy() > 0.5) == (label.cpu().numpy() > 0.5)\n",
      "loss 0.2422, accuracy 0.9875: 100%|███████████████████████████████████████████████| 3750/3750 [00:26<00:00, 141.30it/s]\n"
     ]
    },
    {
     "name": "stdout",
     "output_type": "stream",
     "text": [
      "0.6305729167699814\n",
      "0.965256666666672\n"
     ]
    },
    {
     "name": "stderr",
     "output_type": "stream",
     "text": [
      "loss 0.4822, accuracy 0.96875: 100%|██████████████████████████████████████████████| 3750/3750 [00:24<00:00, 153.48it/s]\n"
     ]
    },
    {
     "name": "stdout",
     "output_type": "stream",
     "text": [
      "0.3072529208958149\n",
      "0.9831600000000094\n"
     ]
    },
    {
     "name": "stderr",
     "output_type": "stream",
     "text": [
      "loss 0.2420, accuracy 0.98125: 100%|██████████████████████████████████████████████| 3750/3750 [00:25<00:00, 149.98it/s]\n"
     ]
    },
    {
     "name": "stdout",
     "output_type": "stream",
     "text": [
      "0.25880543085436025\n",
      "0.9858333333333442\n"
     ]
    },
    {
     "name": "stderr",
     "output_type": "stream",
     "text": [
      "loss 0.2245, accuracy 0.9875: 100%|███████████████████████████████████████████████| 3750/3750 [00:22<00:00, 163.07it/s]\n"
     ]
    },
    {
     "name": "stdout",
     "output_type": "stream",
     "text": [
      "0.22484723702197273\n",
      "0.9875783333333495\n"
     ]
    },
    {
     "name": "stderr",
     "output_type": "stream",
     "text": [
      "loss 0.0988, accuracy 0.9875: 100%|███████████████████████████████████████████████| 3750/3750 [00:22<00:00, 168.20it/s]\n"
     ]
    },
    {
     "name": "stdout",
     "output_type": "stream",
     "text": [
      "0.19869836358974377\n",
      "0.9891183333333511\n"
     ]
    },
    {
     "name": "stderr",
     "output_type": "stream",
     "text": [
      "loss 0.1938, accuracy 0.9875: 100%|███████████████████████████████████████████████| 3750/3750 [00:22<00:00, 167.48it/s]\n"
     ]
    },
    {
     "name": "stdout",
     "output_type": "stream",
     "text": [
      "0.17711355049038927\n",
      "0.9902500000000181\n"
     ]
    },
    {
     "name": "stderr",
     "output_type": "stream",
     "text": [
      "loss 0.0299, accuracy 1.0: 100%|██████████████████████████████████████████████████| 3750/3750 [00:22<00:00, 167.46it/s]\n"
     ]
    },
    {
     "name": "stdout",
     "output_type": "stream",
     "text": [
      "0.1594523559992512\n",
      "0.9912366666666836\n"
     ]
    },
    {
     "name": "stderr",
     "output_type": "stream",
     "text": [
      "loss 0.1965, accuracy 0.99375: 100%|██████████████████████████████████████████████| 3750/3750 [00:22<00:00, 163.68it/s]\n"
     ]
    },
    {
     "name": "stdout",
     "output_type": "stream",
     "text": [
      "0.14532507771415015\n",
      "0.9920600000000164\n"
     ]
    },
    {
     "name": "stderr",
     "output_type": "stream",
     "text": [
      "loss 0.0666, accuracy 1.0: 100%|██████████████████████████████████████████████████| 3750/3750 [00:24<00:00, 150.68it/s]\n"
     ]
    },
    {
     "name": "stdout",
     "output_type": "stream",
     "text": [
      "0.13276297098224363\n",
      "0.9927166666666836\n"
     ]
    },
    {
     "name": "stderr",
     "output_type": "stream",
     "text": [
      "loss 0.0185, accuracy 1.0: 100%|██████████████████████████████████████████████████| 3750/3750 [00:24<00:00, 150.52it/s]"
     ]
    },
    {
     "name": "stdout",
     "output_type": "stream",
     "text": [
      "0.1223796918756639\n",
      "0.9933383333333508\n"
     ]
    },
    {
     "name": "stderr",
     "output_type": "stream",
     "text": [
      "\n"
     ]
    }
   ],
   "source": [
    "epochs = 10\n",
    "for i in range(epochs):\n",
    "  loss_val = 0\n",
    "  accuracy_val = 0\n",
    "  for img, labels in (pbar := tqdm(dataloader)):\n",
    "    optimizer.zero_grad()\n",
    "    \n",
    "    img = img.to(devise)\n",
    "    labels = labels.to(devise)\n",
    "    \n",
    "    labels = F.one_hot(labels, 10).float()\n",
    "    outp = model(img)\n",
    "    loss = loss_fn(outp, labels)\n",
    "    loss.backward()\n",
    "    optimizer.step()\n",
    "    \n",
    "    with torch.no_grad():\n",
    "        loss_item = loss.item()\n",
    "        loss_val += loss_item\n",
    "        accuracy_curr = accuracy(labels, outp)\n",
    "        accuracy_val += accuracy_curr\n",
    "\n",
    "    pbar.set_description(f\"loss {loss_item:.4f}, accuracy {accuracy_curr}\")\n",
    "  print(loss_val / len(dataloader))\n",
    "  print(accuracy_val / len(dataloader))"
   ]
  },
  {
   "cell_type": "code",
   "execution_count": 90,
   "metadata": {
    "colab": {
     "base_uri": "https://localhost:8080/"
    },
    "executionInfo": {
     "elapsed": 249,
     "status": "ok",
     "timestamp": 1709236842865,
     "user": {
      "displayName": "Виктор Братко",
      "userId": "01003162172643735255"
     },
     "user_tz": -180
    },
    "id": "S6hzMre-USMx",
    "outputId": "30cdadc1-9c95-49af-bbcc-93a1f0faf178"
   },
   "outputs": [
    {
     "name": "stderr",
     "output_type": "stream",
     "text": [
      "<ipython-input-82-a8fa29b58036>:2: UserWarning: Implicit dimension choice for softmax has been deprecated. Change the call to include dim=X as an argument.\n",
      "  score = F.softmax(prediction.detach()).numpy().argmax(1) == label.numpy().argmax(1)\n"
     ]
    },
    {
     "data": {
      "text/plain": [
       "0.9375"
      ]
     },
     "execution_count": 90,
     "metadata": {},
     "output_type": "execute_result"
    }
   ],
   "source": [
    "accuracy(label, model(img))"
   ]
  }
 ],
 "metadata": {
  "colab": {
   "authorship_tag": "ABX9TyMG8N3JnKAq1U9o3gKHnu+U",
   "provenance": []
  },
  "kernelspec": {
   "display_name": "Python 3 (ipykernel)",
   "language": "python",
   "name": "python3"
  },
  "language_info": {
   "codemirror_mode": {
    "name": "ipython",
    "version": 3
   },
   "file_extension": ".py",
   "mimetype": "text/x-python",
   "name": "python",
   "nbconvert_exporter": "python",
   "pygments_lexer": "ipython3",
   "version": "3.11.5"
  }
 },
 "nbformat": 4,
 "nbformat_minor": 4
}
